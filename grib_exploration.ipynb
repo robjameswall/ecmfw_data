{
 "cells": [
  {
   "cell_type": "markdown",
   "metadata": {},
   "source": [
    "# Exploring Grib Files"
   ]
  },
  {
   "cell_type": "code",
   "execution_count": 4,
   "metadata": {},
   "outputs": [],
   "source": [
    "import os\n",
    "os.environ['PROJ_LIB'] = '/home/robwall/anaconda2/envs/metocean_data_py3/share/proj'"
   ]
  },
  {
   "cell_type": "code",
   "execution_count": 5,
   "metadata": {},
   "outputs": [],
   "source": [
    "#import iris\n",
    "#import iris.plot as iplt\n",
    "#import iris.quickplot as qplt\n",
    "import matplotlib.pyplot as plt\n",
    "import os\n",
    "import pygrib\n",
    "from mpl_toolkits.basemap import Basemap\n",
    "plt.interactive(True)"
   ]
  },
  {
   "cell_type": "markdown",
   "metadata": {},
   "source": [
    "## Load data"
   ]
  },
  {
   "cell_type": "code",
   "execution_count": 6,
   "metadata": {},
   "outputs": [],
   "source": [
    "grib_files = [os.path.join(\"data\", f) for f in os.listdir(\"data\")]"
   ]
  },
  {
   "cell_type": "code",
   "execution_count": 7,
   "metadata": {},
   "outputs": [
    {
     "ename": "NameError",
     "evalue": "name 'iris' is not defined",
     "output_type": "error",
     "traceback": [
      "\u001b[0;31m---------------------------------------------------------------------------\u001b[0m",
      "\u001b[0;31mNameError\u001b[0m                                 Traceback (most recent call last)",
      "\u001b[0;32m<ipython-input-7-0ffa4a3d9a7f>\u001b[0m in \u001b[0;36m<module>\u001b[0;34m\u001b[0m\n\u001b[0;32m----> 1\u001b[0;31m \u001b[0mcubes\u001b[0m \u001b[0;34m=\u001b[0m \u001b[0miris\u001b[0m\u001b[0;34m.\u001b[0m\u001b[0mload\u001b[0m\u001b[0;34m(\u001b[0m\u001b[0mgrib_files\u001b[0m\u001b[0;34m[\u001b[0m\u001b[0;36m0\u001b[0m\u001b[0;34m]\u001b[0m\u001b[0;34m)\u001b[0m\u001b[0;34m\u001b[0m\u001b[0m\n\u001b[0m",
      "\u001b[0;31mNameError\u001b[0m: name 'iris' is not defined"
     ]
    }
   ],
   "source": [
    "cubes = iris.load(grib_files[0])"
   ]
  },
  {
   "cell_type": "code",
   "execution_count": 31,
   "metadata": {},
   "outputs": [],
   "source": [
    "cube_raw = iris.load_raw(grib_files[0])"
   ]
  },
  {
   "cell_type": "code",
   "execution_count": 11,
   "metadata": {},
   "outputs": [
    {
     "name": "stdout",
     "output_type": "stream",
     "text": [
      "0: unknown / (unknown)                 (time: 61; latitude: 123; longitude: 155)\n",
      "1: unknown / (unknown)                 (time: 61; latitude: 123; longitude: 155)\n",
      "2: unknown / (unknown)                 (time: 61; latitude: 123; longitude: 155)\n",
      "3: unknown / (unknown)                 (time: 61; latitude: 123; longitude: 155)\n",
      "4: unknown / (unknown)                 (time: 61; latitude: 123; longitude: 155)\n",
      "5: unknown / (unknown)                 (time: 61; latitude: 123; longitude: 155)\n",
      "6: unknown / (unknown)                 (time: 61; latitude: 123; longitude: 155)\n",
      "7: unknown / (unknown)                 (time: 61; latitude: 123; longitude: 155)\n",
      "8: wind_from_direction / (degrees)     (time: 61; latitude: 123; longitude: 155)\n",
      "9: wind_speed / (m s-1)                (time: 61; latitude: 123; longitude: 155)\n",
      "10: x_wind / (m s-1)                    (time: 61; latitude: 123; longitude: 155)\n",
      "11: y_wind / (m s-1)                    (time: 61; latitude: 123; longitude: 155)\n"
     ]
    }
   ],
   "source": [
    "print(cubes)"
   ]
  },
  {
   "cell_type": "code",
   "execution_count": 43,
   "metadata": {},
   "outputs": [
    {
     "data": {
      "text/plain": [
       "'unknown'"
      ]
     },
     "execution_count": 43,
     "metadata": {},
     "output_type": "execute_result"
    }
   ],
   "source": [
    "cubes[0].name()"
   ]
  },
  {
   "cell_type": "code",
   "execution_count": 21,
   "metadata": {},
   "outputs": [],
   "source": [
    "wind_speed = cubes[9]"
   ]
  },
  {
   "cell_type": "code",
   "execution_count": 22,
   "metadata": {},
   "outputs": [
    {
     "name": "stdout",
     "output_type": "stream",
     "text": [
      "wind_speed / (m s-1)                (time: 61; latitude: 123; longitude: 155)\n",
      "     Dimension coordinates:\n",
      "          time                           x             -               -\n",
      "          latitude                       -             x               -\n",
      "          longitude                      -             -               x\n",
      "     Auxiliary coordinates:\n",
      "          forecast_period                x             -               -\n",
      "     Scalar coordinates:\n",
      "          forecast_reference_time: 2018-12-06 00:00:00\n"
     ]
    }
   ],
   "source": [
    "print(wind_speed)"
   ]
  },
  {
   "cell_type": "markdown",
   "metadata": {},
   "source": [
    "# With PyGrib"
   ]
  },
  {
   "cell_type": "code",
   "execution_count": 8,
   "metadata": {},
   "outputs": [],
   "source": [
    "grbs = pygrib.open(grib_files[0])"
   ]
  },
  {
   "cell_type": "code",
   "execution_count": 9,
   "metadata": {},
   "outputs": [
    {
     "data": {
      "text/plain": [
       "1:Wind speed:m s**-1 (instant):regular_ll:surface:level 0:fcst time 0 hrs:from 201812060000"
      ]
     },
     "execution_count": 9,
     "metadata": {},
     "output_type": "execute_result"
    }
   ],
   "source": [
    "grb = grbs.read(1)[0]\n",
    "grb"
   ]
  },
  {
   "cell_type": "code",
   "execution_count": 10,
   "metadata": {},
   "outputs": [],
   "source": [
    "data = grb.values\n",
    "lat, lon = grb.latlons()"
   ]
  },
  {
   "cell_type": "code",
   "execution_count": 11,
   "metadata": {},
   "outputs": [
    {
     "data": {
      "text/plain": [
       "masked_array(\n",
       "  data=[[--, --, --, ..., --, --, --],\n",
       "        [--, --, --, ..., 13.98, 13.72, --],\n",
       "        [--, --, --, ..., 13.92, 13.66, --],\n",
       "        ...,\n",
       "        [--, --, --, ..., 4.23, 4.0200000000000005, --],\n",
       "        [--, --, --, ..., 4.34, 4.12, --],\n",
       "        [--, --, --, ..., --, --, --]],\n",
       "  mask=[[ True,  True,  True, ...,  True,  True,  True],\n",
       "        [ True,  True,  True, ..., False, False,  True],\n",
       "        [ True,  True,  True, ..., False, False,  True],\n",
       "        ...,\n",
       "        [ True,  True,  True, ..., False, False,  True],\n",
       "        [ True,  True,  True, ..., False, False,  True],\n",
       "        [ True,  True,  True, ...,  True,  True,  True]],\n",
       "  fill_value=9999.0)"
      ]
     },
     "execution_count": 11,
     "metadata": {},
     "output_type": "execute_result"
    }
   ],
   "source": [
    "data"
   ]
  },
  {
   "cell_type": "code",
   "execution_count": null,
   "metadata": {},
   "outputs": [],
   "source": []
  }
 ],
 "metadata": {
  "kernelspec": {
   "display_name": "Python (metocean_data_py3)",
   "language": "python",
   "name": "metocean_data_py3"
  },
  "language_info": {
   "codemirror_mode": {
    "name": "ipython",
    "version": 3
   },
   "file_extension": ".py",
   "mimetype": "text/x-python",
   "name": "python",
   "nbconvert_exporter": "python",
   "pygments_lexer": "ipython3",
   "version": "3.6.6"
  }
 },
 "nbformat": 4,
 "nbformat_minor": 2
}
