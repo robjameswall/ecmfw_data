{
 "cells": [
  {
   "cell_type": "markdown",
   "metadata": {},
   "source": [
    "# Extract and Format ERA5"
   ]
  },
  {
   "cell_type": "markdown",
   "metadata": {},
   "source": [
    "Extract a target region from ERA5 files and process to long format"
   ]
  },
  {
   "cell_type": "code",
   "execution_count": 5,
   "metadata": {},
   "outputs": [],
   "source": [
    "import pygrib\n",
    "import numpy as np"
   ]
  },
  {
   "cell_type": "code",
   "execution_count": 6,
   "metadata": {},
   "outputs": [],
   "source": [
    "import os\n",
    "try:\n",
    "    os.environ['PROJ_LIB'] = '/home/robwall/anaconda2/envs/metocean_data_py3/share/proj'\n",
    "    from mpl_toolkits.basemap import Basemap\n",
    "except:\n",
    "    os.environ['PROJ_LIB'] = '/home/robwall/anaconda3/envs/py27/share/proj'\n",
    "    from mpl_toolkits.basemap import Basemap\n"
   ]
  },
  {
   "cell_type": "markdown",
   "metadata": {},
   "source": [
    "### Extraction region"
   ]
  },
  {
   "cell_type": "code",
   "execution_count": 7,
   "metadata": {},
   "outputs": [],
   "source": [
    "lat_range = [-34.55, -23.66]\n",
    "lon_range = [152.06, 163.4]"
   ]
  },
  {
   "cell_type": "markdown",
   "metadata": {},
   "source": [
    "## Load some data"
   ]
  },
  {
   "cell_type": "code",
   "execution_count": 22,
   "metadata": {},
   "outputs": [],
   "source": [
    "grb_f = \"../data/era5_201707.grib\"\n",
    "sample_grb_f = \"../data/era5_20180601.grib\"\n",
    "ww3_f = \"../data/nww3.t00z.grib.grib2.grb\""
   ]
  },
  {
   "cell_type": "code",
   "execution_count": 14,
   "metadata": {},
   "outputs": [],
   "source": [
    "era = pygrib.open(grb_f)"
   ]
  },
  {
   "cell_type": "code",
   "execution_count": 24,
   "metadata": {},
   "outputs": [],
   "source": [
    "sample_era = pygrib.open(sample_grb_f)"
   ]
  },
  {
   "cell_type": "markdown",
   "metadata": {},
   "source": [
    "Identify variables"
   ]
  },
  {
   "cell_type": "code",
   "execution_count": 48,
   "metadata": {},
   "outputs": [],
   "source": [
    "era_vars_short = set([v.shortName for v in sample_era.select()])\n",
    "era_vars = set([v.name for v in sample_era.select()])"
   ]
  },
  {
   "cell_type": "code",
   "execution_count": 49,
   "metadata": {},
   "outputs": [
    {
     "data": {
      "text/plain": [
       "{'10 metre U wind component',\n",
       " '10 metre V wind component',\n",
       " 'Mean direction of total swell',\n",
       " 'Mean direction of wind waves',\n",
       " 'Mean period of total swell',\n",
       " 'Mean period of wind waves',\n",
       " 'Mean wave direction',\n",
       " 'Mean wave direction of first swell partition',\n",
       " 'Mean wave direction of second swell partition',\n",
       " 'Mean wave period',\n",
       " 'Mean wave period based on first moment for swell',\n",
       " 'Mean wave period of first swell partition',\n",
       " 'Mean wave period of second swell partition',\n",
       " 'Significant height of combined wind waves and swell',\n",
       " 'Significant height of wind waves'}"
      ]
     },
     "execution_count": 49,
     "metadata": {},
     "output_type": "execute_result"
    }
   ],
   "source": [
    "era_vars"
   ]
  },
  {
   "cell_type": "code",
   "execution_count": 50,
   "metadata": {},
   "outputs": [
    {
     "data": {
      "text/plain": [
       "{'10u',\n",
       " '10v',\n",
       " 'mdts',\n",
       " 'mdww',\n",
       " 'mpts',\n",
       " 'mpww',\n",
       " 'mwd',\n",
       " 'mwd1',\n",
       " 'mwd2',\n",
       " 'mwp',\n",
       " 'mwp1',\n",
       " 'mwp2',\n",
       " 'p1ps',\n",
       " 'shww',\n",
       " 'swh'}"
      ]
     },
     "execution_count": 50,
     "metadata": {},
     "output_type": "execute_result"
    }
   ],
   "source": [
    "era_vars_short"
   ]
  },
  {
   "cell_type": "code",
   "execution_count": 61,
   "metadata": {},
   "outputs": [],
   "source": [
    "sample_grb = sample_era.select(name=\"Significant height of combined wind waves and swell\")"
   ]
  },
  {
   "cell_type": "code",
   "execution_count": 65,
   "metadata": {},
   "outputs": [
    {
     "data": {
      "text/plain": [
       "datetime.datetime(2018, 6, 1, 0, 0)"
      ]
     },
     "execution_count": 65,
     "metadata": {},
     "output_type": "execute_result"
    }
   ],
   "source": [
    "sample_grb[0].analDate"
   ]
  },
  {
   "cell_type": "markdown",
   "metadata": {},
   "source": [
    "Get data and lat, lons within target region"
   ]
  },
  {
   "cell_type": "code",
   "execution_count": 76,
   "metadata": {},
   "outputs": [],
   "source": [
    "sample_data_region = sample_grb[0].data(lat1=lat_range[0], lat2=lat_range[1],\n",
    "                                        lon1=lon_range[0], lon2=lon_range[1])"
   ]
  },
  {
   "cell_type": "code",
   "execution_count": 82,
   "metadata": {},
   "outputs": [
    {
     "data": {
      "text/plain": [
       "(22, 22)"
      ]
     },
     "execution_count": 82,
     "metadata": {},
     "output_type": "execute_result"
    }
   ],
   "source": [
    "sample_data_region[0].shape"
   ]
  },
  {
   "cell_type": "markdown",
   "metadata": {},
   "source": [
    "https://stackoverflow.com/questions/33168775/conditional-indexing-with-numpy-ndarray"
   ]
  },
  {
   "cell_type": "code",
   "execution_count": 80,
   "metadata": {},
   "outputs": [],
   "source": [
    "lat, lon = sample_grb[0].latlons()"
   ]
  },
  {
   "cell_type": "code",
   "execution_count": 81,
   "metadata": {},
   "outputs": [
    {
     "data": {
      "text/plain": [
       "(361, 720)"
      ]
     },
     "execution_count": 81,
     "metadata": {},
     "output_type": "execute_result"
    }
   ],
   "source": [
    "lon.shape"
   ]
  }
 ],
 "metadata": {
  "kernelspec": {
   "display_name": "Python (metocean_data_py3)",
   "language": "python",
   "name": "metocean_data_py3"
  },
  "language_info": {
   "codemirror_mode": {
    "name": "ipython",
    "version": 3
   },
   "file_extension": ".py",
   "mimetype": "text/x-python",
   "name": "python",
   "nbconvert_exporter": "python",
   "pygments_lexer": "ipython3",
   "version": "3.6.6"
  }
 },
 "nbformat": 4,
 "nbformat_minor": 2
}
